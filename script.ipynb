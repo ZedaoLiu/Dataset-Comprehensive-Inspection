{
 "cells": [
  {
   "cell_type": "markdown",
   "metadata": {},
   "source": [
    "# 视频教程和网页教程不能及时更新，一切以script为准！\n",
    "## 注意：不要在这里运行任何代码，可copy到你们的文件夹下面使用"
   ]
  },
  {
   "cell_type": "markdown",
   "metadata": {},
   "source": [
    "# 运行以下代码块进行环境配置\n",
    "### 无需修改，运行即可"
   ]
  },
  {
   "cell_type": "code",
   "execution_count": null,
   "metadata": {},
   "outputs": [],
   "source": [
    "import importlib.util\n",
    "import sys\n",
    "import os \n",
    "import pandas as pd\n",
    "import numpy as np\n",
    "from scipy.io import mmread, mmwrite\n",
    "\n",
    "sys.path.append('/home/ztr/abio_database_pipeline/')\n",
    "from pipeline.datasets_curation import datasetBuilder\n",
    "from pipeline.datasets_curation import inspector\n",
    "my_builder = datasetBuilder.DatasetBuilder()\n",
    "my_inspector = inspector.Inspector()"
   ]
  },
  {
   "cell_type": "code",
   "execution_count": null,
   "metadata": {},
   "outputs": [],
   "source": [
    "my_builder.buildDataset()"
   ]
  },
  {
   "cell_type": "code",
   "execution_count": null,
   "metadata": {},
   "outputs": [],
   "source": [
    "expressionMatrix_rawCounts = 'expressionMatrix_rawCounts.tsv'\n",
    "expressionMatrix_normalized = 'expressionMatrix_normalized.tsv'\n",
    "expressionMatrix_TPM = 'expressionMatrix_TPM.tsv'\n",
    "cellAnnotation = 'cellAnnotation.tsv'\n",
    "geneAnnotation = 'geneAnnotation.tsv'\n",
    "unstructuredData = 'unstructuredData.json'\n",
    "readme = 'README.json'\n",
    "notAvailable = 'notAvailable'"
   ]
  },
  {
   "cell_type": "markdown",
   "metadata": {},
   "source": [
    "<br><br><br><br><br><br><br><br><br><br><br>"
   ]
  },
  {
   "cell_type": "markdown",
   "metadata": {},
   "source": [
    "# 1. 填写expressionMatrix_rawCounts.tsv"
   ]
  },
  {
   "cell_type": "markdown",
   "metadata": {},
   "source": [
    "#### 矩阵填写注意事项！（适用于以下三种矩阵）：\n",
    "矩阵的行名是cellID,列名可以是geneSymbol或者ensemblID，注意如果是ensemblID，需要去除版本号，即去掉小数点及小数点后面的数字。"
   ]
  },
  {
   "cell_type": "markdown",
   "metadata": {},
   "source": [
    "### 1.1 读入标准模板查看格式"
   ]
  },
  {
   "cell_type": "code",
   "execution_count": null,
   "metadata": {},
   "outputs": [],
   "source": [
    "df_raw = my_builder.read_template_tsv(expressionMatrix_rawCounts)\n",
    "df_raw.head()"
   ]
  },
  {
   "cell_type": "markdown",
   "metadata": {},
   "source": [
    "### 编写完成后应如下图所示\n",
    "### 列名中，第一列为cellID, 其余列为基因名。"
   ]
  },
  {
   "cell_type": "markdown",
   "metadata": {},
   "source": [
    "![title](http://118.190.148.166/biodb/dataset_curation/static/6.png)"
   ]
  },
  {
   "cell_type": "markdown",
   "metadata": {},
   "source": [
    "### 1.2 从 ../downloaded_data/ 路径中读取原始数据，进行清洗"
   ]
  },
  {
   "cell_type": "code",
   "execution_count": null,
   "metadata": {},
   "outputs": [],
   "source": [
    "df_downloaded = pd.read_csv('../downloaded_data/GSM2781556_Dropseq_120000_umi.txt.gz',sep='\\t')\n",
    "df_downloaded.head()"
   ]
  },
  {
   "cell_type": "markdown",
   "metadata": {},
   "source": [
    "### 1.3 清洗完成后，确认当前格式与目标格式相同，存储数据"
   ]
  },
  {
   "cell_type": "code",
   "execution_count": null,
   "metadata": {},
   "outputs": [],
   "source": [
    "my_builder.save_template_tsv(df_raw, expressionMatrix_rawCounts)"
   ]
  },
  {
   "cell_type": "markdown",
   "metadata": {},
   "source": [
    "### 1.4 存储为sparse matrix格式\n",
    "#### (tsv和mtx格式选择一种保存即可，即如果已经保存了tsv格式则不需要存为mtx格式，反之一样)"
   ]
  },
  {
   "cell_type": "code",
   "execution_count": null,
   "metadata": {},
   "outputs": [],
   "source": [
    "from scipy import sparse, io"
   ]
  },
  {
   "cell_type": "markdown",
   "metadata": {},
   "source": [
    "#### sparse matrix 与 numpy array 互相转换：\n",
    "numpy array 转换为 coo_matrix: data = sparse.coo_matrix(data)\n",
    "\n",
    "sparse matrix 转换为: data = data.to_array()\n",
    "\n",
    "#### 输入参数要求：\n",
    "mtx为sparse coo matrix；genes和cellID为list格式，且不能有重复；genes可为symbol或者ensemblID."
   ]
  },
  {
   "cell_type": "code",
   "execution_count": null,
   "metadata": {
    "scrolled": true
   },
   "outputs": [],
   "source": [
    "my_builder.save_template_mtx(mtx=, mtx_name='expressionMatrix_rawCounts.mtx', genes=, cellID=)"
   ]
  },
  {
   "cell_type": "markdown",
   "metadata": {},
   "source": [
    "<br><br><br><br><br><br><br><br><br>"
   ]
  },
  {
   "cell_type": "markdown",
   "metadata": {},
   "source": [
    "# 2. 填写expressionMatrix_normalized.tsv"
   ]
  },
  {
   "cell_type": "markdown",
   "metadata": {},
   "source": [
    "### 2.1 读入标准模板查看格式"
   ]
  },
  {
   "cell_type": "code",
   "execution_count": null,
   "metadata": {},
   "outputs": [],
   "source": [
    "df_norm = my_builder.read_template_tsv(expressionMatrix_normalized)\n",
    "df_norm.head()"
   ]
  },
  {
   "cell_type": "markdown",
   "metadata": {},
   "source": [
    "### 编写完成后应如下图所示\n",
    "### 列名中，第一列为normalizationMethod, 第二列为cellID, 其余列为基因名。"
   ]
  },
  {
   "cell_type": "markdown",
   "metadata": {},
   "source": [
    "![title](http://118.190.148.166/biodb/dataset_curation/static/7.png)"
   ]
  },
  {
   "cell_type": "markdown",
   "metadata": {},
   "source": [
    "### 2.2 从 ../downloaded_data/ 路径中读取原始数据，进行清洗"
   ]
  },
  {
   "cell_type": "code",
   "execution_count": null,
   "metadata": {},
   "outputs": [],
   "source": [
    "df_downloaded = pd.read_csv('../downloaded_data/x.csv')"
   ]
  },
  {
   "cell_type": "markdown",
   "metadata": {},
   "source": [
    "### 2.3 清洗完成后，确认当前格式与目标格式相同，存储数据"
   ]
  },
  {
   "cell_type": "code",
   "execution_count": null,
   "metadata": {},
   "outputs": [],
   "source": [
    "my_builder.save_template_tsv(df_norm, expressionMatrix_normalized)"
   ]
  },
  {
   "cell_type": "markdown",
   "metadata": {},
   "source": [
    "### 2.4 存储为sparse matrix格式"
   ]
  },
  {
   "cell_type": "markdown",
   "metadata": {},
   "source": [
    "normalized一般不需要存储为mtx格式；如有特殊情况咨询管理员后可使用下面的函数"
   ]
  },
  {
   "cell_type": "code",
   "execution_count": null,
   "metadata": {},
   "outputs": [],
   "source": [
    "my_builder.save_template_mtx(mtx=, mtx_name='expressionMatrix_normalized.mtx')"
   ]
  },
  {
   "cell_type": "markdown",
   "metadata": {},
   "source": [
    "<br><br><br><br><br><br><br><br><br>"
   ]
  },
  {
   "cell_type": "markdown",
   "metadata": {},
   "source": [
    "# 3. 填写expressionMatrix_TPM.tsv"
   ]
  },
  {
   "cell_type": "markdown",
   "metadata": {},
   "source": [
    "#### TPM填写注意事项：\n",
    "1.如果原文只提供了rawCounts矩阵，则使用6中的自动化函数生成\n",
    "\n",
    "2.如果原文提供了normalized矩阵，则由normalizedMethod推导生成TPM矩阵"
   ]
  },
  {
   "cell_type": "markdown",
   "metadata": {},
   "source": [
    "### 3.1 读入标准模板查看格式"
   ]
  },
  {
   "cell_type": "code",
   "execution_count": null,
   "metadata": {},
   "outputs": [],
   "source": [
    "df_tpm = my_builder.read_template_tsv(expressionMatrix_TPM)\n",
    "df_tpm.head()"
   ]
  },
  {
   "cell_type": "markdown",
   "metadata": {},
   "source": [
    "### 编写完成后应如下图所示\n",
    "### 列名中，第一列为normalizationMethod(TPM的生成方法), 第二列为cellID, 其余列为基因名。"
   ]
  },
  {
   "cell_type": "markdown",
   "metadata": {},
   "source": [
    "![title](http://118.190.148.166/biodb/dataset_curation/static/8.png)"
   ]
  },
  {
   "cell_type": "markdown",
   "metadata": {},
   "source": [
    "### 3.3 将expressionMatrix_normalized.tsv中的数据，或expressionMatrix_rawCounts.tsv 中的数据转换、存入expressionMatrix_TPM.tsv，可参考教程"
   ]
  },
  {
   "cell_type": "markdown",
   "metadata": {},
   "source": [
    "### 存储TPM文件"
   ]
  },
  {
   "cell_type": "code",
   "execution_count": null,
   "metadata": {},
   "outputs": [],
   "source": [
    "my_builder.save_template_tsv(df_tpm, expressionMatrix_TPM)"
   ]
  },
  {
   "cell_type": "markdown",
   "metadata": {},
   "source": [
    "### 3.4 存储为sparse matrix格式"
   ]
  },
  {
   "cell_type": "markdown",
   "metadata": {},
   "source": [
    "由normalized转换而来得到的TPM一般不需要存储为mtx格式；如有特殊情况使用下面的函数"
   ]
  },
  {
   "cell_type": "code",
   "execution_count": null,
   "metadata": {},
   "outputs": [],
   "source": [
    "my_builder.save_template_mtx(mtx=, mtx_name='expressionMatrix_TPM.mtx')"
   ]
  },
  {
   "cell_type": "markdown",
   "metadata": {},
   "source": [
    "<br><br><br><br><br><br><br><br><br>"
   ]
  },
  {
   "cell_type": "markdown",
   "metadata": {},
   "source": [
    "# 4. 填写cellAnnotation.tsv"
   ]
  },
  {
   "cell_type": "markdown",
   "metadata": {},
   "source": [
    "#### 注：如果你的数据找不到cluster信息，请使用我们的邮件模板发邮件给作者询问，如仍无回应，填为notAvailable"
   ]
  },
  {
   "cell_type": "markdown",
   "metadata": {},
   "source": [
    "### 4.1 读入标准模板查看格式"
   ]
  },
  {
   "cell_type": "code",
   "execution_count": null,
   "metadata": {
    "scrolled": true
   },
   "outputs": [],
   "source": [
    "df_cell = my_builder.read_template_tsv(cellAnnotation)\n",
    "df_cell.head()"
   ]
  },
  {
   "cell_type": "markdown",
   "metadata": {},
   "source": [
    "### 编写完成后应如下图所示"
   ]
  },
  {
   "cell_type": "markdown",
   "metadata": {},
   "source": [
    "![title](http://118.190.148.166/biodb/dataset_curation/static/5.png)"
   ]
  },
  {
   "cell_type": "markdown",
   "metadata": {},
   "source": [
    "### 4.2 将expressionMatrix_TPM.tsv 中的cellID填在cellAnnotation.tsv中"
   ]
  },
  {
   "cell_type": "code",
   "execution_count": null,
   "metadata": {},
   "outputs": [],
   "source": [
    "df_tpm = my_builder.read_template_tsv(expressionMatrix_TPM)\n",
    "df_tpm.head()"
   ]
  },
  {
   "cell_type": "code",
   "execution_count": null,
   "metadata": {},
   "outputs": [],
   "source": [
    "df_cell['cellID'] = df_tpm['cellID'].tolist()"
   ]
  },
  {
   "cell_type": "markdown",
   "metadata": {},
   "source": [
    "### 4.3 根据对应的cellID填写其他列"
   ]
  },
  {
   "cell_type": "markdown",
   "metadata": {},
   "source": [
    "#### 注意事项：\n",
    "#### sampleID需要和cellID一一对应，一般可通过title进行对应，如确实无法对应，填为notAvailable\n",
    "#### meta字段为选填，填写时注意：\n",
    "1.根据sample中的信息选择填写，除了模板中给的三个字段示例之外，需要自行添加，一般为其Characteristics的几个属性，可以先浏览GSM的界面查看，确定之后从sample里面摘下来\n",
    "\n",
    "2.模板中的只是示例，如果没有该字段信息的请删除！不确定要不要填的请咨询管理员，切不可遗漏！\n",
    "\n",
    "3.字段命名方式参考meta_sourceName，中间不要出现空格和其他连接符号，比如cell type命名为meta_cellType\n",
    "\n",
    "4.有些数据在文章的supplementary data里面也有关于sample或是细胞的注释信息，可以自行下载并填写进去"
   ]
  },
  {
   "cell_type": "code",
   "execution_count": null,
   "metadata": {},
   "outputs": [],
   "source": [
    "#读取sample注释文件\n",
    "sample = pd.read_csv('../downloaded_data/GSM_info.tsv'')"
   ]
  },
  {
   "cell_type": "code",
   "execution_count": null,
   "metadata": {},
   "outputs": [],
   "source": [
    "#若无该文件，则使用内置函数获取\n",
    "sample = my_builder.sample_info(GSE = )"
   ]
  },
  {
   "cell_type": "code",
   "execution_count": null,
   "metadata": {},
   "outputs": [],
   "source": [
    "#填写sample metadata相关信息,字段名前面加上meta_,如meta_sourceName等,以下仅为示例，不是必填！\n",
    "df_cell['meta_sourceName'] = sample['']\n",
    "df_cell['meta_tissue'] = sample['']\n",
    "# ....."
   ]
  },
  {
   "cell_type": "code",
   "execution_count": null,
   "metadata": {},
   "outputs": [],
   "source": [
    "df_cell['clusterID'] = ''\n",
    "df_cell['clusterName'] = ''\n",
    "df_cell['sampleID'] = ''\n",
    "df_cell['cellOntologyName'] = ''\n",
    "df_cell['cellOntologyID'] = ''\n",
    "df_cell['FACSMarker'] = ''\n",
    "df_cell['tSNE1'] = ''# 从文章提供的表格或者其他数据来源中查找tSNE信息填入，若无再使用6中的函数生成\n",
    "df_cell['tSNE2'] = ''"
   ]
  },
  {
   "cell_type": "markdown",
   "metadata": {},
   "source": [
    "### 4.4 编辑完后保存"
   ]
  },
  {
   "cell_type": "code",
   "execution_count": null,
   "metadata": {},
   "outputs": [],
   "source": [
    "my_builder.save_template_tsv(df_cell, cellAnnotation)"
   ]
  },
  {
   "cell_type": "markdown",
   "metadata": {},
   "source": [
    "<br><br><br><br><br><br><br><br><br>"
   ]
  },
  {
   "cell_type": "markdown",
   "metadata": {},
   "source": [
    "# 5 填写unstructuredData.json"
   ]
  },
  {
   "cell_type": "markdown",
   "metadata": {},
   "source": [
    "### 5.1 读入并查看模板 "
   ]
  },
  {
   "cell_type": "code",
   "execution_count": null,
   "metadata": {
    "scrolled": true
   },
   "outputs": [],
   "source": [
    "uns = my_builder.read_template_json(unstructuredData)\n",
    "uns"
   ]
  },
  {
   "cell_type": "markdown",
   "metadata": {},
   "source": [
    "### unstructuredData.json 含有两部分，metadata和markerGenes"
   ]
  },
  {
   "cell_type": "markdown",
   "metadata": {},
   "source": [
    "### 5.2 填写数据"
   ]
  },
  {
   "cell_type": "markdown",
   "metadata": {},
   "source": [
    "#### metadata填写注意事项：\n",
    "#### 部分字段会自动填充，可以运行查看，如有错误可以手动改正；其余字段需手动填上\n",
    "#### libraryPreparationMethod需要填写注释中给定的几个字段之一，如果没有可以咨询管理员确认，不要乱填！也不要硬对上标准字段！"
   ]
  },
  {
   "cell_type": "code",
   "execution_count": null,
   "metadata": {},
   "outputs": [],
   "source": [
    "metadata = uns['metadata']\n",
    "metadata"
   ]
  },
  {
   "cell_type": "code",
   "execution_count": null,
   "metadata": {},
   "outputs": [],
   "source": [
    "number_of_cells = my_builder.read_template_tsv(cellAnnotation).shape[0]\n",
    "metadata['numberOfCells'] = number_of_cells"
   ]
  },
  {
   "cell_type": "code",
   "execution_count": null,
   "metadata": {},
   "outputs": [],
   "source": [
    "metadata['subDataset'] = '' # 如果有不只一个part，则根据part_n填为SubDataset-n；只有一个part不填\n",
    "metadata['description'] = '' #  对subDataset的描述，填写规则看下面注释；只有一个part不填\n",
    "metadata['title'] = '' # 注意这里填写的是文章的title，不是GSE界面的title！\n",
    "metadata['authors'] = my_builder.get_metadata('')[2] # 使用内置函数获取，引号内填pubmedID\n",
    "metadata['accessionNumber'] = ''\n",
    "metadata['pubmedID'] = 0 # 注意填数字，不是字符串\n",
    "metadata['keywords'] = my_builder.get_metadata('')[3] # 使用内置函数获取，引号内填pubmedID\n",
    "metadata['abstract'] = ''\n",
    "metadata['sourceID'] = ''\n",
    "metadata['libraryPreparationMethod'] = '' # 从下面注释的对应部分中选填\n",
    "metadata['sequencingPlatform'] = '' # 'Illumina HiSeq 2500'\n",
    "metadata['clusteringMethod'] = ''\n",
    "metadata['biomarkerDerivationMethod'] = '' # 有cluster分类的填: wilcoxon，没有的填: notAvailable\n",
    "metadata['fastqURL'] = 'https://www.ebi.ac.uk/ena/data/view/PRJNA542142'\n",
    "metadata['figureURL'] = 'https://media.springernature.com/lw685/springer-static/image/art%3A10.1038%2Fs41590-019-0420-3/MediaObjects/41590_2019_420_Fig1_HTML.png?as=webp' # 使用文章的Graphical Abstract，如果没有则用第一张图Fig.1，链接需能在浏览器中打开\n",
    "metadata['isFigurePublic'] = ''# 填True or False, 是否对所有网络均公开可见，如一般abstract中的figure为公开的\n",
    "metadata['taxonomyID'] = 0 # 人填9606， 鼠填10090\n",
    "metadata['genomeBuild'] = '' # 'hg38'\n",
    "metadata['annotation'] = '' # 'ensembl_v93'\n",
    "metadata['journal'] =  my_builder.get_metadata('')[0] # 使用内置函数获取，引号内填pubmedID，如无法获取，从下面注释的对应部分中选填\n",
    "metadata['publicationDate'] = my_builder.get_metadata('')[1] # 使用内置函数获取，引号内填pubmedID，格式为：2018-03-04\n",
    "metadata['citation'] = 0 # 引用次数\n",
    "metadata['tissue'] = [''] # 从下面注释的对应部分中选填,填为list格式\n",
    "metadata['tissueOntology'] = [''] # 根据tissue的内容填写tissueOntology, 以BTO开头，搜寻网址为：https://www.ebi.ac.uk/ols/ontologies/bto\n",
    "metadata['clusterAvailability'] = ''# 填True or False，意思是能否找到对应的cluster信息\n",
    "# 以下字段为文章的研究主题，注意是字符串格式\n",
    "metadata['disease'] = '' # 填True or False\n",
    "metadata['methodology'] = ''# 填True or False\n",
    "metadata['cancer'] = ''# 填True or False\n",
    "metadata['neuroscience'] = '' # 填True or False\n",
    "metadata['developmentalBiology'] = ''# 填True or False\n",
    "metadata['immunology'] = ''# 填True or False\n",
    "metadata['cellAtlas'] = ''# 填True or False\n",
    "metadata['tSNEAvailability'] = # 填True or False,意思是能否找到tSNE的坐标信息，同样需要发邮件\n",
    "metadata['isBadtSNE'] = '' # 填True or False,由6中的tSNEplot画出图形判断，有cluster需要判断，没有的空着"
   ]
  },
  {
   "cell_type": "code",
   "execution_count": null,
   "metadata": {},
   "outputs": [],
   "source": [
    "my_builder.get_metadata('')[3]"
   ]
  },
  {
   "cell_type": "markdown",
   "metadata": {},
   "source": [
    "libraryPreparationMethod: 10x chromium,drop-seq,microwell-seq,C1 Fluidigm,inDrops,Smart-seq2,Smart-seq,CEL-seq,CEL-seq2,MARS-seq,msSCRB-seq,SCRB-seq.\n",
    "\n",
    "journal: Cancer cell,Cancer discovery,Cell,Cell stem cell,Cell system,Immmunity,Molecular cell,Nature,Nature biomedical engineering,Nature cell biology,Nature communications,Nature genetics,Nature medicine,Nature methods,Nature neuroscience,Neuron,Science,Science immunology,Science translational medicine,eLife\n",
    "\n",
    "description: The original article contains ? subdatasets, based on \"e.g. different sequencing platforms\", \"e.g. adult & fatal tissue\",. This subdataset is based on \"e.g. smartseq-2\", \"adult tissue\", (should match the initial description.)\n",
    "\n",
    "\n",
    "如果你的数据不符合以上给定字符串，请告知管理员！"
   ]
  },
  {
   "cell_type": "code",
   "execution_count": null,
   "metadata": {},
   "outputs": [],
   "source": [
    "# 查看给定的tissue keywords\n",
    "my_inspector.tissue_keywords"
   ]
  },
  {
   "cell_type": "code",
   "execution_count": null,
   "metadata": {},
   "outputs": [],
   "source": [
    "# 存储数据\n",
    "uns['metadata'] = metadata\n",
    "my_builder.save_template_json(uns, unstructuredData)"
   ]
  },
  {
   "cell_type": "markdown",
   "metadata": {},
   "source": [
    "### 5.3 填写marker genes，由文章给的数据填写或者邮件发送作者询问"
   ]
  },
  {
   "cell_type": "markdown",
   "metadata": {},
   "source": [
    "如果给的是geneSymbol,可使用my_builder.calculate_ensemblID(geneSymbol)得到对应的ensemblID；\n",
    "\n",
    "如果给的是ensemblID,可使用my_builder.calculate_geneSymbol(ensemblID)得到对应的geneSymbol。\n",
    "\n",
    "注：需要填写taxomomyID并保存，输入输出格式均为list"
   ]
  },
  {
   "cell_type": "code",
   "execution_count": null,
   "metadata": {},
   "outputs": [],
   "source": [
    "# 查看模板格式\n",
    "uns['markerGenes']"
   ]
  },
  {
   "cell_type": "code",
   "execution_count": null,
   "metadata": {},
   "outputs": [],
   "source": [
    "markerGenes = {}\n",
    "markerGenes['cluster1'] = {} #cluster1为clusterName，每个clusterName都要有以下五个keywords\n",
    "# 下面等号右边填为List格式，且长度一致，没有的填notAvailable，也需为list格式\n",
    "markerGenes['cluster1']['geneSymbol'] = []\n",
    "markerGenes['cluster1']['ensemblID'] = []\n",
    "markerGenes['cluster1']['pValue'] = []\n",
    "markerGenes['cluster1']['statistics'] = [] # 统计量\n",
    "markerGenes['cluster1']['statisticsType'] = [] # 如wilcoxon"
   ]
  },
  {
   "cell_type": "code",
   "execution_count": null,
   "metadata": {},
   "outputs": [],
   "source": [
    "# 存储数据\n",
    "uns['markerGenes'] = markerGenes\n",
    "my_builder.save_template_json(uns, unstructuredData)"
   ]
  },
  {
   "cell_type": "markdown",
   "metadata": {},
   "source": [
    "<br><br><br><br><br><br><br><br><br>"
   ]
  },
  {
   "cell_type": "markdown",
   "metadata": {},
   "source": [
    "# 6. 使用脚本自动生成其他项\n",
    "### 以下几个函数需要按照顺序运行"
   ]
  },
  {
   "cell_type": "markdown",
   "metadata": {},
   "source": [
    "### 6.1 由raw生成TPM（未提供normalized矩阵的情况下）\n",
    " 运行该命令需要首先填写unstruc文件中metadata部分的libraryPreparationMethod，如果libraryPreparationMethod在我们给定的标准字段（见上面的注释）中，则直接运行下面的命令，否则需要判断是否为全长测序，并加入参数gene_len = True or False.\n",
    " \n",
    " 如果raw counts存为sparse matrix，也可运行该函数由raw counts得到TPM，同时会自动生成geneAnnotation文件"
   ]
  },
  {
   "cell_type": "code",
   "execution_count": null,
   "metadata": {},
   "outputs": [],
   "source": [
    "# generate TPM from rawCou\n",
    "my_builder.toTPM() "
   ]
  },
  {
   "cell_type": "markdown",
   "metadata": {},
   "source": [
    "### 6.2 生成geneAnnotation文件"
   ]
  },
  {
   "cell_type": "markdown",
   "metadata": {},
   "source": [
    "#### 如果不能生成首先查下TPM矩阵的列名格式是否正确"
   ]
  },
  {
   "cell_type": "code",
   "execution_count": null,
   "metadata": {},
   "outputs": [],
   "source": [
    "my_builder.generate_geneAnno()"
   ]
  },
  {
   "cell_type": "markdown",
   "metadata": {},
   "source": [
    "### 6.3 生成tSNE,UMAP"
   ]
  },
  {
   "cell_type": "markdown",
   "metadata": {},
   "source": [
    "#### 如果出错首先查下TPM格式是否正确，是否存在负值"
   ]
  },
  {
   "cell_type": "code",
   "execution_count": null,
   "metadata": {},
   "outputs": [],
   "source": [
    "# generate dim_red\n",
    "# 其中tSNE坐标需先从文章中寻找或者发邮件给作者询问，若无可使用下面函数生成\n",
    "my_builder.calculate_dim_red(tSNE = True, UMAP = True)"
   ]
  },
  {
   "cell_type": "markdown",
   "metadata": {},
   "source": [
    "### 6.4 Clustering\n",
    "原文及作者没有提供clusterName时，需运行下面的函数得到聚类结果"
   ]
  },
  {
   "cell_type": "code",
   "execution_count": null,
   "metadata": {},
   "outputs": [],
   "source": [
    "my_builder.calculate_cluster()"
   ]
  },
  {
   "cell_type": "markdown",
   "metadata": {},
   "source": [
    "#### 画图判断isBadtSNE\n",
    "如果图上的颜色混杂在一起，则为bad。"
   ]
  },
  {
   "cell_type": "code",
   "execution_count": null,
   "metadata": {},
   "outputs": [],
   "source": [
    "my_builder.tSNEplot()"
   ]
  },
  {
   "cell_type": "markdown",
   "metadata": {},
   "source": [
    "### 6.5 自动生成其他文件"
   ]
  },
  {
   "cell_type": "markdown",
   "metadata": {},
   "source": [
    "#### 如果cellAnno文件中的clusterID和clusterName都是notAvailable，则不需运行此函数！"
   ]
  },
  {
   "cell_type": "code",
   "execution_count": null,
   "metadata": {},
   "outputs": [],
   "source": [
    "my_builder.auto_calculation()"
   ]
  },
  {
   "cell_type": "markdown",
   "metadata": {},
   "source": [
    "<br><br><br><br><br><br><br><br><br>"
   ]
  },
  {
   "cell_type": "markdown",
   "metadata": {},
   "source": [
    "# 7. 填写README"
   ]
  },
  {
   "cell_type": "code",
   "execution_count": null,
   "metadata": {},
   "outputs": [],
   "source": [
    "my_builder = builder.DatasetBuilder()\n",
    "\n",
    "#读入模板\n",
    "Readme = my_builder.read_template_json(readme)\n",
    "Readme"
   ]
  },
  {
   "cell_type": "code",
   "execution_count": null,
   "metadata": {},
   "outputs": [],
   "source": [
    "#更改信息\n",
    "Readme['author'] = ''\n",
    "Readme['date'] = ''\n",
    "Readme['modificationDate'] = ''\n",
    "Readme['unfinishedParts'] = [''] #未完成的部分，包括矩阵及cellAnno中的cluster等\n",
    "Readme['authorComments'] = '' #如果数据分成了几个part，写清楚该part代表什么类型的数据\n",
    "Readme['otherComments'] = ''"
   ]
  },
  {
   "cell_type": "code",
   "execution_count": null,
   "metadata": {},
   "outputs": [],
   "source": [
    "#保存文件 \n",
    "my_builder.save_template_json(Readme, readme)"
   ]
  },
  {
   "cell_type": "markdown",
   "metadata": {},
   "source": [
    "<br><br><br><br><br><br><br><br><br>"
   ]
  },
  {
   "cell_type": "markdown",
   "metadata": {},
   "source": [
    "# 8. 使用检查器检查"
   ]
  },
  {
   "cell_type": "markdown",
   "metadata": {},
   "source": [
    "### 8.1 运行如下代码，检查器会提示错误信息"
   ]
  },
  {
   "cell_type": "code",
   "execution_count": null,
   "metadata": {},
   "outputs": [],
   "source": [
    "my_inspector.inspect() #注意看报ERROR的内容！"
   ]
  },
  {
   "cell_type": "code",
   "execution_count": null,
   "metadata": {},
   "outputs": [],
   "source": []
  }
 ],
 "metadata": {
  "kernelspec": {
   "display_name": "Python 3",
   "language": "python",
   "name": "python3"
  },
  "language_info": {
   "codemirror_mode": {
    "name": "ipython",
    "version": 3
   },
   "file_extension": ".py",
   "mimetype": "text/x-python",
   "name": "python",
   "nbconvert_exporter": "python",
   "pygments_lexer": "ipython3",
   "version": "3.6.8"
  }
 },
 "nbformat": 4,
 "nbformat_minor": 2
}
